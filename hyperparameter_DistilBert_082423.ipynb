{
 "cells": [
  {
   "cell_type": "code",
   "execution_count": 1,
   "id": "43304ffe",
   "metadata": {
    "scrolled": false
   },
   "outputs": [
    {
     "name": "stderr",
     "output_type": "stream",
     "text": [
      "WARNING: Ignoring invalid distribution -atplotlib (c:\\users\\singg\\anaconda3\\lib\\site-packages)\n",
      "WARNING: Ignoring invalid distribution -rotobuf (c:\\users\\singg\\anaconda3\\lib\\site-packages)\n",
      "WARNING: Skipping tensorflow as it is not installed.\n",
      "WARNING: Ignoring invalid distribution -atplotlib (c:\\users\\singg\\anaconda3\\lib\\site-packages)\n",
      "WARNING: Ignoring invalid distribution -rotobuf (c:\\users\\singg\\anaconda3\\lib\\site-packages)\n",
      "WARNING: Ignoring invalid distribution -atplotlib (c:\\users\\singg\\anaconda3\\lib\\site-packages)\n",
      "WARNING: Ignoring invalid distribution -rotobuf (c:\\users\\singg\\anaconda3\\lib\\site-packages)\n"
     ]
    },
    {
     "name": "stdout",
     "output_type": "stream",
     "text": [
      "Requirement already satisfied: evaluate in c:\\users\\singg\\anaconda3\\lib\\site-packages (0.4.0)\n",
      "Requirement already satisfied: datasets>=2.0.0 in c:\\users\\singg\\anaconda3\\lib\\site-packages (from evaluate) (2.14.4)\n",
      "Requirement already satisfied: numpy>=1.17 in c:\\users\\singg\\anaconda3\\lib\\site-packages (from evaluate) (1.21.5)\n",
      "Requirement already satisfied: dill in c:\\users\\singg\\anaconda3\\lib\\site-packages (from evaluate) (0.3.7)\n",
      "Requirement already satisfied: pandas in c:\\users\\singg\\anaconda3\\lib\\site-packages (from evaluate) (1.4.4)\n",
      "Requirement already satisfied: requests>=2.19.0 in c:\\users\\singg\\anaconda3\\lib\\site-packages (from evaluate) (2.28.1)\n",
      "Requirement already satisfied: tqdm>=4.62.1 in c:\\users\\singg\\anaconda3\\lib\\site-packages (from evaluate) (4.64.1)\n",
      "Requirement already satisfied: xxhash in c:\\users\\singg\\anaconda3\\lib\\site-packages (from evaluate) (3.3.0)\n",
      "Requirement already satisfied: multiprocess in c:\\users\\singg\\anaconda3\\lib\\site-packages (from evaluate) (0.70.15)\n",
      "Requirement already satisfied: fsspec[http]>=2021.05.0 in c:\\users\\singg\\anaconda3\\lib\\site-packages (from evaluate) (2022.7.1)\n",
      "Requirement already satisfied: huggingface-hub>=0.7.0 in c:\\users\\singg\\anaconda3\\lib\\site-packages (from evaluate) (0.16.4)\n",
      "Requirement already satisfied: packaging in c:\\users\\singg\\anaconda3\\lib\\site-packages (from evaluate) (21.3)\n",
      "Requirement already satisfied: responses<0.19 in c:\\users\\singg\\anaconda3\\lib\\site-packages (from evaluate) (0.18.0)\n",
      "Collecting pyarrow>=8.0.0 (from datasets>=2.0.0->evaluate)\n",
      "  Downloading pyarrow-12.0.1-cp39-cp39-win_amd64.whl (21.5 MB)\n",
      "     ---------------------------------------- 21.5/21.5 MB 9.2 MB/s eta 0:00:00\n",
      "Requirement already satisfied: aiohttp in c:\\users\\singg\\anaconda3\\lib\\site-packages (from datasets>=2.0.0->evaluate) (3.8.5)\n",
      "Requirement already satisfied: pyyaml>=5.1 in c:\\users\\singg\\anaconda3\\lib\\site-packages (from datasets>=2.0.0->evaluate) (6.0)\n",
      "Requirement already satisfied: filelock in c:\\users\\singg\\anaconda3\\lib\\site-packages (from huggingface-hub>=0.7.0->evaluate) (3.6.0)\n",
      "Requirement already satisfied: typing-extensions>=3.7.4.3 in c:\\users\\singg\\anaconda3\\lib\\site-packages (from huggingface-hub>=0.7.0->evaluate) (4.3.0)\n",
      "Requirement already satisfied: pyparsing!=3.0.5,>=2.0.2 in c:\\users\\singg\\anaconda3\\lib\\site-packages (from packaging->evaluate) (3.0.9)\n",
      "Requirement already satisfied: charset-normalizer<3,>=2 in c:\\users\\singg\\anaconda3\\lib\\site-packages (from requests>=2.19.0->evaluate) (2.0.4)\n",
      "Requirement already satisfied: idna<4,>=2.5 in c:\\users\\singg\\anaconda3\\lib\\site-packages (from requests>=2.19.0->evaluate) (3.4)\n",
      "Requirement already satisfied: urllib3<1.27,>=1.21.1 in c:\\users\\singg\\anaconda3\\lib\\site-packages (from requests>=2.19.0->evaluate) (1.26.12)\n",
      "Requirement already satisfied: certifi>=2017.4.17 in c:\\users\\singg\\anaconda3\\lib\\site-packages (from requests>=2.19.0->evaluate) (2023.7.22)\n",
      "Requirement already satisfied: colorama in c:\\users\\singg\\anaconda3\\lib\\site-packages (from tqdm>=4.62.1->evaluate) (0.4.5)\n",
      "Requirement already satisfied: python-dateutil>=2.8.1 in c:\\users\\singg\\anaconda3\\lib\\site-packages (from pandas->evaluate) (2.8.2)\n",
      "Requirement already satisfied: pytz>=2020.1 in c:\\users\\singg\\anaconda3\\lib\\site-packages (from pandas->evaluate) (2022.1)\n",
      "Requirement already satisfied: six>=1.5 in c:\\users\\singg\\anaconda3\\lib\\site-packages (from python-dateutil>=2.8.1->pandas->evaluate) (1.16.0)\n",
      "Requirement already satisfied: attrs>=17.3.0 in c:\\users\\singg\\anaconda3\\lib\\site-packages (from aiohttp->datasets>=2.0.0->evaluate) (21.4.0)\n",
      "Requirement already satisfied: multidict<7.0,>=4.5 in c:\\users\\singg\\anaconda3\\lib\\site-packages (from aiohttp->datasets>=2.0.0->evaluate) (6.0.4)\n",
      "Requirement already satisfied: async-timeout<5.0,>=4.0.0a3 in c:\\users\\singg\\anaconda3\\lib\\site-packages (from aiohttp->datasets>=2.0.0->evaluate) (4.0.3)\n",
      "Requirement already satisfied: yarl<2.0,>=1.0 in c:\\users\\singg\\anaconda3\\lib\\site-packages (from aiohttp->datasets>=2.0.0->evaluate) (1.9.2)\n",
      "Requirement already satisfied: frozenlist>=1.1.1 in c:\\users\\singg\\anaconda3\\lib\\site-packages (from aiohttp->datasets>=2.0.0->evaluate) (1.4.0)\n",
      "Requirement already satisfied: aiosignal>=1.1.2 in c:\\users\\singg\\anaconda3\\lib\\site-packages (from aiohttp->datasets>=2.0.0->evaluate) (1.3.1)\n",
      "Installing collected packages: pyarrow\n",
      "  Attempting uninstall: pyarrow\n",
      "    Found existing installation: pyarrow 6.0.1\n",
      "    Uninstalling pyarrow-6.0.1:\n",
      "      Successfully uninstalled pyarrow-6.0.1\n",
      "Successfully installed pyarrow-12.0.1\n"
     ]
    },
    {
     "name": "stderr",
     "output_type": "stream",
     "text": [
      "WARNING: Ignoring invalid distribution -atplotlib (c:\\users\\singg\\anaconda3\\lib\\site-packages)\n",
      "WARNING: Ignoring invalid distribution -rotobuf (c:\\users\\singg\\anaconda3\\lib\\site-packages)\n",
      "WARNING: Ignoring invalid distribution -atplotlib (c:\\users\\singg\\anaconda3\\lib\\site-packages)\n",
      "WARNING: Ignoring invalid distribution -rotobuf (c:\\users\\singg\\anaconda3\\lib\\site-packages)\n"
     ]
    }
   ],
   "source": [
    "!pip uninstall tensorflow -y\n",
    "!pip  install transformers==4.22.1 -q\n",
    "!pip install evaluate"
   ]
  },
  {
   "cell_type": "code",
   "execution_count": 4,
   "id": "9b32e5fb",
   "metadata": {},
   "outputs": [
    {
     "name": "stdout",
     "output_type": "stream",
     "text": [
      "Collecting optuna\n",
      "  Downloading optuna-3.3.0-py3-none-any.whl (404 kB)\n",
      "     -------------------------------------- 404.2/404.2 kB 8.6 MB/s eta 0:00:00\n",
      "Collecting alembic>=1.5.0 (from optuna)\n",
      "  Downloading alembic-1.11.3-py3-none-any.whl (225 kB)\n",
      "     ------------------------------------- 225.4/225.4 kB 13.5 MB/s eta 0:00:00\n",
      "Collecting cmaes>=0.10.0 (from optuna)\n",
      "  Downloading cmaes-0.10.0-py3-none-any.whl (29 kB)\n",
      "Collecting colorlog (from optuna)\n",
      "  Downloading colorlog-6.7.0-py2.py3-none-any.whl (11 kB)\n",
      "Requirement already satisfied: numpy in c:\\users\\singg\\anaconda3\\lib\\site-packages (from optuna) (1.21.5)\n",
      "Requirement already satisfied: packaging>=20.0 in c:\\users\\singg\\anaconda3\\lib\\site-packages (from optuna) (21.3)\n",
      "Requirement already satisfied: sqlalchemy>=1.3.0 in c:\\users\\singg\\anaconda3\\lib\\site-packages (from optuna) (1.4.39)\n",
      "Requirement already satisfied: tqdm in c:\\users\\singg\\anaconda3\\lib\\site-packages (from optuna) (4.64.1)\n",
      "Requirement already satisfied: PyYAML in c:\\users\\singg\\anaconda3\\lib\\site-packages (from optuna) (6.0)\n",
      "Collecting Mako (from alembic>=1.5.0->optuna)\n",
      "  Downloading Mako-1.2.4-py3-none-any.whl (78 kB)\n",
      "     ---------------------------------------- 78.7/78.7 kB ? eta 0:00:00\n",
      "Requirement already satisfied: typing-extensions>=4 in c:\\users\\singg\\anaconda3\\lib\\site-packages (from alembic>=1.5.0->optuna) (4.3.0)\n",
      "Requirement already satisfied: pyparsing!=3.0.5,>=2.0.2 in c:\\users\\singg\\anaconda3\\lib\\site-packages (from packaging>=20.0->optuna) (3.0.9)\n",
      "Requirement already satisfied: greenlet!=0.4.17 in c:\\users\\singg\\anaconda3\\lib\\site-packages (from sqlalchemy>=1.3.0->optuna) (1.1.1)\n",
      "Requirement already satisfied: colorama in c:\\users\\singg\\anaconda3\\lib\\site-packages (from colorlog->optuna) (0.4.5)\n",
      "Requirement already satisfied: MarkupSafe>=0.9.2 in c:\\users\\singg\\anaconda3\\lib\\site-packages (from Mako->alembic>=1.5.0->optuna) (2.0.1)\n",
      "Installing collected packages: Mako, colorlog, cmaes, alembic, optuna\n",
      "Successfully installed Mako-1.2.4 alembic-1.11.3 cmaes-0.10.0 colorlog-6.7.0 optuna-3.3.0\n"
     ]
    },
    {
     "name": "stderr",
     "output_type": "stream",
     "text": [
      "WARNING: Ignoring invalid distribution -atplotlib (c:\\users\\singg\\anaconda3\\lib\\site-packages)\n",
      "WARNING: Ignoring invalid distribution -rotobuf (c:\\users\\singg\\anaconda3\\lib\\site-packages)\n",
      "WARNING: Ignoring invalid distribution -atplotlib (c:\\users\\singg\\anaconda3\\lib\\site-packages)\n",
      "WARNING: Ignoring invalid distribution -rotobuf (c:\\users\\singg\\anaconda3\\lib\\site-packages)\n"
     ]
    }
   ],
   "source": [
    "!pip install optuna"
   ]
  },
  {
   "cell_type": "code",
   "execution_count": 2,
   "id": "8c2b3ae9",
   "metadata": {},
   "outputs": [],
   "source": [
    "import transformers\n",
    "from transformers import Trainer, TrainingArguments, DistilBertForSequenceClassification, DistilBertTokenizerFast, \\\n",
    "                         DataCollatorWithPadding, pipeline\n",
    "from transformers import DataCollatorWithPadding\n",
    "import evaluate\n",
    "import pandas as pd\n",
    "import numpy as np\n",
    "from sklearn.metrics import confusion_matrix, accuracy_score, precision_score, recall_score, f1_score, \\\n",
    "                            roc_auc_score,ConfusionMatrixDisplay\n",
    "import matplotlib.pyplot as plt\n",
    "import scikitplot as skplt"
   ]
  },
  {
   "cell_type": "code",
   "execution_count": 3,
   "id": "f433668d",
   "metadata": {},
   "outputs": [],
   "source": [
    "import load_data\n",
    "from load_data import Data\n",
    "import train_datasets\n",
    "from train_datasets import Train_dataset"
   ]
  },
  {
   "cell_type": "code",
   "execution_count": 4,
   "id": "ccf50be4",
   "metadata": {},
   "outputs": [],
   "source": [
    "import optuna"
   ]
  },
  {
   "cell_type": "code",
   "execution_count": 5,
   "id": "dbf36063",
   "metadata": {},
   "outputs": [],
   "source": [
    "def load_dataset():\n",
    "    #Load a datafraom from the Data class from load_data\n",
    "    data.handle_file()\n",
    "    data.convert_json_to_dataframe()\n",
    "    data.get_next_value()\n",
    "    data.compare_values()\n",
    "    data.label_sentences()\n",
    "    data.initial_df()"
   ]
  },
  {
   "cell_type": "code",
   "execution_count": 6,
   "id": "2cb27365",
   "metadata": {},
   "outputs": [],
   "source": [
    "def check_balance(a):\n",
    "    #Checking ratio of values in label variable\n",
    "    a = pd.DataFrame(a)\n",
    "    print(a.value_counts())\n",
    "    print(round(a.value_counts()[0]/len(a)*100,2),\"%\", \":\" , round(a.value_counts()[1]/len(a)*100,2),\"%\", end='\\n')    "
   ]
  },
  {
   "cell_type": "code",
   "execution_count": 7,
   "id": "a25ac409",
   "metadata": {},
   "outputs": [],
   "source": [
    "def preprocess_function(dataset):\n",
    "    #Mapping tokenizer with a dataset\n",
    "    return tokenizer(dataset[\"text\"], truncation=True, max_length=400)"
   ]
  },
  {
   "cell_type": "code",
   "execution_count": 8,
   "id": "f6fd80e8",
   "metadata": {},
   "outputs": [],
   "source": [
    "metric = evaluate.combine([\"accuracy\",\"recall\",\"precision\", \"f1\"])\n",
    "def compute_metrics(eval_pred):\n",
    "    #Setting evaluation metrics\n",
    "    logits, labels = eval_pred\n",
    "    predictions = np.argmax(logits, axis=-1)\n",
    "    return metric.compute(predictions=predictions, references=labels)"
   ]
  },
  {
   "cell_type": "code",
   "execution_count": 9,
   "id": "80775ec5",
   "metadata": {},
   "outputs": [],
   "source": [
    "def get_predictions(pred_list):\n",
    "    #Getting label values from probabilities\n",
    "    p = []\n",
    "    for pred in pred_list:\n",
    "        if pred[0] > pred[1]:\n",
    "            p.append(0)\n",
    "        else:\n",
    "            p.append(1)        \n",
    "    return p"
   ]
  },
  {
   "cell_type": "code",
   "execution_count": 10,
   "id": "639b5f40",
   "metadata": {},
   "outputs": [],
   "source": [
    "def evaluate_model(labels, prediction, pred):\n",
    "    confusion = confusion_matrix(labels, prediction)\n",
    "    accuracy = accuracy_score(labels, prediction)\n",
    "    precison = precision_score(labels, prediction)\n",
    "    recall = recall_score(labels, prediction)\n",
    "    f1 = f1_score(labels, prediction)\n",
    "    \n",
    "    print(\"accuracy : \",accuracy)\n",
    "    print(\"precison : \", precison)\n",
    "    print(\"recall : \", recall)\n",
    "    print(\"f1 :\", f1)\n",
    "    \n",
    "    disp = ConfusionMatrixDisplay(confusion_matrix=confusion)\n",
    "    disp = disp.plot(cmap=plt.cm.Blues,values_format='g')\n",
    "\n",
    "    skplt.metrics.plot_roc_curve(labels, pred)\n",
    "    plt.show()"
   ]
  },
  {
   "cell_type": "code",
   "execution_count": 11,
   "id": "dc5103da",
   "metadata": {},
   "outputs": [],
   "source": [
    "def objective(trial: optuna.Trial):\n",
    "    uni_labels = ['Continue', \"Change\"]\n",
    "    sequence_clf_model = DistilBertForSequenceClassification.from_pretrained('distilbert-base-cased', num_labels = 2)\n",
    "    sequence_clf_model.config.id2label = {i: l for i, l in enumerate(uni_labels)}\n",
    "    sequence_clf_model.config.dropout =0.2\n",
    "    \n",
    "    training_args = TrainingArguments(\n",
    "        output_dir='./results',\n",
    "        num_train_epochs=trial.suggest_int(\"num_train_epochs\", low=3, high=4),\n",
    "        learning_rate=trial.suggest_loguniform(\"learning_rate\", low=4e-5, high=0.01),\n",
    "        per_device_train_batch_size=16,\n",
    "        per_device_eval_batch_size=64,\n",
    "        warmup_steps=500,\n",
    "        weight_decay= trial.suggest_float(\"weight_decay\", 0, 0.05),\n",
    "        logging_dir='./logs',\n",
    "        load_best_model_at_end=True,\n",
    "        logging_steps=1,\n",
    "        log_level='info',\n",
    "        evaluation_strategy='epoch',\n",
    "        eval_steps=100,\n",
    "        save_strategy='epoch'\n",
    "    )\n",
    "        \n",
    "    trainer1 = Trainer(\n",
    "        model=sequence_clf_model,\n",
    "        args=training_args,\n",
    "        train_dataset=tokenized_dataset['train'],\n",
    "        eval_dataset=tokenized_dataset['test1'],\n",
    "        compute_metrics=compute_metrics,\n",
    "        data_collator=data_collator\n",
    "    )\n",
    "    \n",
    "    global result\n",
    "    result = trainer1.train()\n",
    "    evaluate_t = trainer1.evaluate()\n",
    "    return evaluate_t['eval_f1']"
   ]
  },
  {
   "cell_type": "code",
   "execution_count": null,
   "id": "7a570832",
   "metadata": {},
   "outputs": [],
   "source": [
    "if __name__ == '__main__':\n",
    "    #============================================\n",
    "    #Generate a df from Data class from data_load\n",
    "    #A df contains \"texc\" column a sentence per a row and their lables(0: continue, 1: change)\n",
    "    path ='hotels.json'\n",
    "    data = Data(path)\n",
    "    load_dataset()\n",
    "\n",
    "    #============================================\n",
    "    #Preprocessing data for modeling\n",
    "    #t = df.copy()\n",
    "    t = data.df.copy()\n",
    "    t = t[:2000]\n",
    "\n",
    "\n",
    "    #Splitting setences to tokens and labeling tokens\n",
    "    train_dataset = Train_dataset(t) \n",
    "    train_dataset.test_text = t['text'].values\n",
    "    train_dataset.test_label = t['label'].values\n",
    "    \n",
    "    train_dataset.split_token_sentences()\n",
    "    train_dataset.tokenized_text_label = train_dataset.flatten_list(train_dataset.tokenized_text_label)\n",
    "    train_dataset.tokenized_text = train_dataset.flatten_list(train_dataset.tokenized_text)\n",
    "\n",
    "    #Generating sequnces to be used for training by combining tokens and labeling the sequences\n",
    "    train_dataset.generate_test_dataset()\n",
    "\n",
    "    #Generating datasets for training, vaildating and testing\n",
    "    train_dataset.datasets_for_training()\n",
    "\n",
    "    #Applying DistilBertTokenizerFast for DistilBert model\n",
    "    dataset = train_dataset.dataset\n",
    "    print(dataset)\n",
    "\n",
    "    tokenizer = DistilBertTokenizerFast.from_pretrained('distilbert-base-cased', ignore_mismatched_sizes=True)\n",
    "    tokenized_dataset = dataset.map(preprocess_function, batched=True)\n",
    "\n",
    "    #padding dataset\n",
    "    data_collator = DataCollatorWithPadding(tokenizer=tokenizer)\n",
    "\n",
    "    global study\n",
    "    study = optuna.create_study(study_name='hyper-parameter-search', direction='maximize') \n",
    "    study.optimize(func=objective, n_trials=10)\n",
    "    global best_params\n",
    "    global best_trial\n",
    "    global best_value\n",
    "    best_params = study.best_params\n",
    "    best_trial = study.best_trial\n",
    "    best_value = study.best_value\n",
    "\n",
    "    \n",
    "    print(\"best_value\", best_value) \n",
    "    print(\"best_params\", best_params)\n",
    "    print(\"best_trail\", best_trial)"
   ]
  },
  {
   "cell_type": "code",
   "execution_count": null,
   "id": "3ca74b72",
   "metadata": {},
   "outputs": [],
   "source": []
  }
 ],
 "metadata": {
  "kernelspec": {
   "display_name": "Python 3 (ipykernel)",
   "language": "python",
   "name": "python3"
  },
  "language_info": {
   "codemirror_mode": {
    "name": "ipython",
    "version": 3
   },
   "file_extension": ".py",
   "mimetype": "text/x-python",
   "name": "python",
   "nbconvert_exporter": "python",
   "pygments_lexer": "ipython3",
   "version": "3.10.9"
  }
 },
 "nbformat": 4,
 "nbformat_minor": 5
}
