{
 "cells": [
  {
   "cell_type": "code",
   "execution_count": null,
   "id": "43304ffe",
   "metadata": {},
   "outputs": [],
   "source": [
    "#!pip uninstall tensorflow -y\n",
    "#!pip  install transformers==4.22.1 -q\n",
    "#!pip install evaluate"
   ]
  },
  {
   "cell_type": "code",
   "execution_count": 1,
   "id": "8c2b3ae9",
   "metadata": {},
   "outputs": [],
   "source": [
    "import transformers\n",
    "from transformers import GPT2Tokenizer, DataCollatorWithPadding, TrainingArguments, Trainer, \\\n",
    "                         GPT2ForSequenceClassification, set_seed, pipeline,GPT2Config\n",
    "import evaluate\n",
    "import pandas as pd\n",
    "import numpy as np\n",
    "from sklearn.metrics import confusion_matrix, accuracy_score, precision_score, recall_score, f1_score, \\\n",
    "                            roc_auc_score,ConfusionMatrixDisplay\n",
    "import matplotlib.pyplot as plt\n",
    "import scikitplot as skplt"
   ]
  },
  {
   "cell_type": "code",
   "execution_count": 2,
   "id": "f433668d",
   "metadata": {},
   "outputs": [],
   "source": [
    "import load_data\n",
    "from load_data import Data\n",
    "import train_datasets\n",
    "from train_datasets import Train_dataset"
   ]
  },
  {
   "cell_type": "code",
   "execution_count": 3,
   "id": "dbf36063",
   "metadata": {},
   "outputs": [],
   "source": [
    "def load_dataset():\n",
    "    #Load a datafraom from the Data class from load_data\n",
    "    data.handle_file()\n",
    "    data.convert_json_to_dataframe()\n",
    "    data.get_next_value()\n",
    "    data.compare_values()\n",
    "    data.label_sentences()\n",
    "    data.initial_df()"
   ]
  },
  {
   "cell_type": "code",
   "execution_count": 4,
   "id": "a25ac409",
   "metadata": {},
   "outputs": [],
   "source": [
    "def preprocess_function(dataset):\n",
    "    #Mapping tokenizer with a dataset\n",
    "    return tokenizer(dataset[\"text\"], truncation=True, max_length=400)"
   ]
  },
  {
   "cell_type": "code",
   "execution_count": 5,
   "id": "f6fd80e8",
   "metadata": {},
   "outputs": [],
   "source": [
    "metric = evaluate.combine([\"accuracy\",\"recall\",\"precision\", \"f1\"])\n",
    "def compute_metrics(eval_pred):    \n",
    "    #Setting evaluation metrics\n",
    "    logits, labels = eval_pred\n",
    "    predictions = np.argmax(logits, axis=-1)\n",
    "    return metric.compute(predictions=predictions, references=labels)"
   ]
  },
  {
   "cell_type": "code",
   "execution_count": 6,
   "id": "7a57cb33",
   "metadata": {},
   "outputs": [],
   "source": [
    "def training_model():\n",
    "    #Defining Model and training arguments \n",
    "    #Training model with splitted dataset\n",
    "    uni_labels = ['Continue', \"shift\"]\n",
    "    gpt2_model = GPT2ForSequenceClassification.from_pretrained(\"gpt2\", num_labels=2)\n",
    "    gpt2_model.resize_token_embeddings(len(tokenizer))\n",
    "    gpt2_model.config.id2label = {i: l for i, l in enumerate(uni_labels)}\n",
    "    gpt2_model.config.pad_token_id = gpt2_model.config.eos_token_id\n",
    "    gpt2_model.config.dropout =0.2\n",
    "\n",
    "    training_args = TrainingArguments(\n",
    "        output_dir='./results_gpt',\n",
    "        num_train_epochs=4,\n",
    "        per_device_train_batch_size=4,\n",
    "        per_device_eval_batch_size=8,\n",
    "        warmup_steps=500,\n",
    "        weight_decay=0.05,\n",
    "        logging_dir='./logs_gpt',\n",
    "        load_best_model_at_end=True,\n",
    "        logging_steps=1,\n",
    "        log_level='info',\n",
    "        evaluation_strategy='epoch',\n",
    "        eval_steps=100,\n",
    "        save_strategy='epoch'\n",
    "    )\n",
    "\n",
    "    trainer1 = Trainer(\n",
    "        model=gpt2_model,\n",
    "        args=training_args,\n",
    "        train_dataset=dataset['train'],\n",
    "        eval_dataset=dataset['test1'],\n",
    "        compute_metrics=compute_metrics,\n",
    "        data_collator=data_collator\n",
    "    )\n",
    "\n",
    "    trainer2 = Trainer(\n",
    "        model=gpt2_model,\n",
    "        args=training_args,\n",
    "        train_dataset=dataset['train'],\n",
    "        eval_dataset=dataset['test2'],\n",
    "        compute_metrics=compute_metrics,\n",
    "        data_collator=data_collator\n",
    "    )\n",
    "    \n",
    "    return trainer1, trainer2"
   ]
  },
  {
   "cell_type": "code",
   "execution_count": 7,
   "id": "3427d239",
   "metadata": {},
   "outputs": [],
   "source": [
    "def get_predictions(pred_list):\n",
    "    p = []\n",
    "    for pred in pred_list:\n",
    "        if pred[0] > pred[1]:\n",
    "            p.append(0)\n",
    "        else:\n",
    "            p.append(1)        \n",
    "    return p"
   ]
  },
  {
   "cell_type": "code",
   "execution_count": 8,
   "id": "749bb241",
   "metadata": {},
   "outputs": [],
   "source": [
    "def evaluate_model(labels, prediction, pred):\n",
    "    confusion = confusion_matrix(labels, prediction)\n",
    "    accuracy = accuracy_score(labels, prediction)\n",
    "    precison = precision_score(labels, prediction)\n",
    "    recall = recall_score(labels, prediction)\n",
    "    f1 = f1_score(labels, prediction)\n",
    "    \n",
    "    print(\"accuracy : \",accuracy)\n",
    "    print(\"precison : \", precison)\n",
    "    print(\"recall : \", recall)\n",
    "    print(\"f1 :\", f1)\n",
    "    \n",
    "    disp = ConfusionMatrixDisplay(confusion_matrix=confusion)\n",
    "    disp = disp.plot(cmap=plt.cm.Blues,values_format='g')\n",
    "\n",
    "    skplt.metrics.plot_roc_curve(labels, pred)\n",
    "    plt.show()"
   ]
  },
  {
   "cell_type": "code",
   "execution_count": 9,
   "id": "46a6d149",
   "metadata": {
    "scrolled": false
   },
   "outputs": [
    {
     "name": "stdout",
     "output_type": "stream",
     "text": [
      "['Yes.'\n",
      " \"I'd like to know like the room details and what the hotels offer.\"\n",
      " 'The warm,' 'modern suites offer free Wi-Fi,'\n",
      " 'flat-screen TVs and DVD players.' 'All have desks,'\n",
      " 'sitting areas and kitchens.' 'Amenities include a refined bar/lounge,'\n",
      " 'a 24-hour gym and a 24/7 business center.' ''\n",
      " 'a 24-hour gym and a 24/7 business center.' 'Okay.'\n",
      " 'I definitely want Wi-Fi in my room.' 'Ok great!'\n",
      " \"And I'd also like to ask about the different offerings the hotel has.\"\n",
      " 'A free breakfast buffet is served in the relaxed dining room.'\n",
      " 'All have desks,' 'sitting areas and kitchens.' ''\n",
      " 'sitting areas and kitchens.' 'Okay.'\n",
      " 'I definitely want a hotel with a breakfast.' 'And is that all?'\n",
      " 'I just wanted to make sure it was a two-person room.'\n",
      " 'Yes for 2 to 3 people.' 'Okay.' \"That's it.\"\n",
      " 'The hotel is Staybridge Suites Times Square - New York City.' 'Okay,'\n",
      " 'cool.']\n",
      "[0 1 0 0 0 0 0 0 0 0 1 0 1 1 1 0 0 0 0 1 0 1 1 1 1 0 1 1 0 1]\n",
      "['Yes.', \"Yes. I'd\", \"Yes. I'd like\", \"Yes. I'd like to\", \"Yes. I'd like to know\", \"Yes. I'd like to know like\", \"Yes. I'd like to know like the\", \"Yes. I'd like to know like the room\", \"Yes. I'd like to know like the room details\", \"Yes. I'd like to know like the room details and\", \"Yes. I'd like to know like the room details and what\", \"Yes. I'd like to know like the room details and what the\", \"Yes. I'd like to know like the room details and what the hotels\", \"Yes. I'd like to know like the room details and what the hotels offer.\"]\n",
      "[0, 0, 0, 0, 0, 0, 0, 0, 0, 0, 0, 0, 0, 1]\n",
      "4495\n",
      "4495\n"
     ]
    },
    {
     "data": {
      "application/vnd.jupyter.widget-view+json": {
       "model_id": "b2f24bdf38e142d386d6912e1c71a49d",
       "version_major": 2,
       "version_minor": 0
      },
      "text/plain": [
       "Map:   0%|          | 0/16194 [00:00<?, ? examples/s]"
      ]
     },
     "metadata": {},
     "output_type": "display_data"
    },
    {
     "data": {
      "application/vnd.jupyter.widget-view+json": {
       "model_id": "cd30253d84f9407a92340b6cd6b122f4",
       "version_major": 2,
       "version_minor": 0
      },
      "text/plain": [
       "Map:   0%|          | 0/5398 [00:00<?, ? examples/s]"
      ]
     },
     "metadata": {},
     "output_type": "display_data"
    },
    {
     "data": {
      "application/vnd.jupyter.widget-view+json": {
       "model_id": "437d1beb875a4b6fb0c2c83704f012e9",
       "version_major": 2,
       "version_minor": 0
      },
      "text/plain": [
       "Map:   0%|          | 0/5398 [00:00<?, ? examples/s]"
      ]
     },
     "metadata": {},
     "output_type": "display_data"
    },
    {
     "name": "stderr",
     "output_type": "stream",
     "text": [
      "Some weights of GPT2ForSequenceClassification were not initialized from the model checkpoint at gpt2 and are newly initialized: ['score.weight']\n",
      "You should probably TRAIN this model on a down-stream task to be able to use it for predictions and inference.\n",
      "C:\\Users\\singg\\anaconda3\\lib\\site-packages\\transformers\\optimization.py:306: FutureWarning: This implementation of AdamW is deprecated and will be removed in a future version. Use the PyTorch implementation torch.optim.AdamW instead, or set `no_deprecation_warning=True` to disable this warning\n",
      "  warnings.warn(\n",
      "***** Running training *****\n",
      "  Num examples = 16194\n",
      "  Num Epochs = 4\n",
      "  Instantaneous batch size per device = 4\n",
      "  Total train batch size (w. parallel, distributed & accumulation) = 4\n",
      "  Gradient Accumulation steps = 1\n",
      "  Total optimization steps = 16196\n"
     ]
    },
    {
     "data": {
      "text/html": [
       "\n",
       "    <div>\n",
       "      \n",
       "      <progress value='16196' max='16196' style='width:300px; height:20px; vertical-align: middle;'></progress>\n",
       "      [16196/16196 9:13:18, Epoch 4/4]\n",
       "    </div>\n",
       "    <table border=\"1\" class=\"dataframe\">\n",
       "  <thead>\n",
       " <tr style=\"text-align: left;\">\n",
       "      <th>Epoch</th>\n",
       "      <th>Training Loss</th>\n",
       "      <th>Validation Loss</th>\n",
       "      <th>Accuracy</th>\n",
       "      <th>Recall</th>\n",
       "      <th>Precision</th>\n",
       "      <th>F1</th>\n",
       "    </tr>\n",
       "  </thead>\n",
       "  <tbody>\n",
       "    <tr>\n",
       "      <td>1</td>\n",
       "      <td>0.007800</td>\n",
       "      <td>0.172405</td>\n",
       "      <td>0.957762</td>\n",
       "      <td>1.000000</td>\n",
       "      <td>0.858561</td>\n",
       "      <td>0.923899</td>\n",
       "    </tr>\n",
       "    <tr>\n",
       "      <td>2</td>\n",
       "      <td>0.001300</td>\n",
       "      <td>0.165371</td>\n",
       "      <td>0.958133</td>\n",
       "      <td>0.995665</td>\n",
       "      <td>0.862328</td>\n",
       "      <td>0.924212</td>\n",
       "    </tr>\n",
       "    <tr>\n",
       "      <td>3</td>\n",
       "      <td>0.000000</td>\n",
       "      <td>0.171293</td>\n",
       "      <td>0.960170</td>\n",
       "      <td>0.980491</td>\n",
       "      <td>0.878317</td>\n",
       "      <td>0.926596</td>\n",
       "    </tr>\n",
       "    <tr>\n",
       "      <td>4</td>\n",
       "      <td>0.000000</td>\n",
       "      <td>0.166859</td>\n",
       "      <td>0.960911</td>\n",
       "      <td>0.971821</td>\n",
       "      <td>0.886618</td>\n",
       "      <td>0.927266</td>\n",
       "    </tr>\n",
       "  </tbody>\n",
       "</table><p>"
      ],
      "text/plain": [
       "<IPython.core.display.HTML object>"
      ]
     },
     "metadata": {},
     "output_type": "display_data"
    },
    {
     "name": "stderr",
     "output_type": "stream",
     "text": [
      "***** Running Evaluation *****\n",
      "  Num examples = 5398\n",
      "  Batch size = 8\n",
      "Saving model checkpoint to ./results_gpt\\checkpoint-4049\n",
      "Configuration saved in ./results_gpt\\checkpoint-4049\\config.json\n",
      "Model weights saved in ./results_gpt\\checkpoint-4049\\pytorch_model.bin\n",
      "***** Running Evaluation *****\n",
      "  Num examples = 5398\n",
      "  Batch size = 8\n",
      "Saving model checkpoint to ./results_gpt\\checkpoint-8098\n",
      "Configuration saved in ./results_gpt\\checkpoint-8098\\config.json\n",
      "Model weights saved in ./results_gpt\\checkpoint-8098\\pytorch_model.bin\n",
      "***** Running Evaluation *****\n",
      "  Num examples = 5398\n",
      "  Batch size = 8\n",
      "Saving model checkpoint to ./results_gpt\\checkpoint-12147\n",
      "Configuration saved in ./results_gpt\\checkpoint-12147\\config.json\n",
      "Model weights saved in ./results_gpt\\checkpoint-12147\\pytorch_model.bin\n",
      "***** Running Evaluation *****\n",
      "  Num examples = 5398\n",
      "  Batch size = 8\n",
      "Saving model checkpoint to ./results_gpt\\checkpoint-16196\n",
      "Configuration saved in ./results_gpt\\checkpoint-16196\\config.json\n",
      "Model weights saved in ./results_gpt\\checkpoint-16196\\pytorch_model.bin\n",
      "\n",
      "\n",
      "Training completed. Do not forget to share your model on huggingface.co/models =)\n",
      "\n",
      "\n",
      "Loading best model from ./results_gpt\\checkpoint-8098 (score: 0.16537146270275116).\n",
      "Saving model checkpoint to ./model/final_gpt2\n",
      "Configuration saved in ./model/final_gpt2\\config.json\n",
      "Model weights saved in ./model/final_gpt2\\pytorch_model.bin\n",
      "***** Running Evaluation *****\n",
      "  Num examples = 5398\n",
      "  Batch size = 8\n"
     ]
    },
    {
     "data": {
      "text/html": [],
      "text/plain": [
       "<IPython.core.display.HTML object>"
      ]
     },
     "metadata": {},
     "output_type": "display_data"
    },
    {
     "name": "stderr",
     "output_type": "stream",
     "text": [
      "***** Running Prediction *****\n",
      "  Num examples = 5398\n",
      "  Batch size = 8\n"
     ]
    },
    {
     "name": "stdout",
     "output_type": "stream",
     "text": [
      "accuracy :  0.9581326417191552\n",
      "precison :  0.8623279098873592\n",
      "recall :  0.9956647398843931\n",
      "f1 : 0.9242119382964453\n"
     ]
    },
    {
     "name": "stderr",
     "output_type": "stream",
     "text": [
      "C:\\Users\\singg\\anaconda3\\lib\\site-packages\\sklearn\\utils\\deprecation.py:87: FutureWarning: Function plot_roc_curve is deprecated; This will be removed in v0.5.0. Please use scikitplot.metrics.plot_roc instead.\n",
      "  warnings.warn(msg, category=FutureWarning)\n"
     ]
    },
    {
     "data": {
      "image/png": "[encoded data removed]",
      "text/plain": [
       "<Figure size 640x480 with 2 Axes>"
      ]
     },
     "metadata": {},
     "output_type": "display_data"
    },
    {
     "data": {
      "image/png": "[encoded data removed]",
      "text/plain": [
       "<Figure size 640x480 with 1 Axes>"
      ]
     },
     "metadata": {},
     "output_type": "display_data"
    }
   ],
   "source": [
    "if __name__ == '__main__':\n",
    "    \n",
    "    #Generating additional data with label 1======================\n",
    "    path ='hotels.json'\n",
    "    data = Data(path)\n",
    "    load_dataset()\n",
    "    df = data.df.to_json(\"df.json\")\n",
    "\n",
    "    t = data.df.copy()\n",
    "    t = t[5000:14500]\n",
    "\n",
    "    #Splitting setences to tokens and labeling tokens\n",
    "    train_dataset = Train_dataset(t) \n",
    "    train_dataset.test_text = t['text'].values\n",
    "    train_dataset.test_label = t['label'].values\n",
    "    print(train_dataset.test_text[:30])\n",
    "    print(train_dataset.test_label[:30])\n",
    "\n",
    "    train_dataset.split_token_sentences()\n",
    "    train_dataset.tokenized_text_label = train_dataset.flatten_list(train_dataset.tokenized_text_label)\n",
    "    train_dataset.tokenized_text = train_dataset.flatten_list(train_dataset.tokenized_text)\n",
    "    train_dataset.generate_test_dataset()\n",
    "\n",
    "    print(train_dataset.sequences[:14])\n",
    "    print(train_dataset.labels[:14])\n",
    "\n",
    "    text_shift = []\n",
    "    label_shift = []\n",
    "\n",
    "    for i, l in enumerate(train_dataset.labels):\n",
    "        if l == 1:\n",
    "            text_shift.append(train_dataset.sequences[i])\n",
    "            label_shift.append(l)\n",
    "        \n",
    "    print(len(text_shift))\n",
    "    print(len(label_shift))\n",
    "\n",
    "    #============================================\n",
    "    #Generate a df from Data class from data_load\n",
    "    #A df contains \"texc\" column a sentence per a row and their lables(0: continue, 1: change)\n",
    "    path ='hotels.json'\n",
    "    data = Data(path)\n",
    "    load_dataset()\n",
    "\n",
    "    #save initial df as a json file\n",
    "    df = data.df.to_json(\"df.json\")\n",
    "\n",
    "    #============================================\n",
    "    #Preprocessing data for modeling\n",
    "    t = data.df.copy()\n",
    "    t = t[:5000]\n",
    "    #4000 rows were used which will generate sequences.    \n",
    "\n",
    "    #Splitting setences to tokens and labeling tokens\n",
    "    train_dataset = Train_dataset(t) \n",
    "    train_dataset.test_text = t['text'].values\n",
    "    train_dataset.test_label = t['label'].values\n",
    "    \n",
    "    train_dataset.split_token_sentences()\n",
    "    train_dataset.tokenized_text_label = train_dataset.flatten_list(train_dataset.tokenized_text_label)\n",
    "    train_dataset.tokenized_text = train_dataset.flatten_list(train_dataset.tokenized_text)\n",
    "    \n",
    "    #Generating sequnces to be used for training by combining tokens and labeling the sequences\n",
    "    train_dataset.generate_test_dataset()\n",
    "    \n",
    "    #Add additional data with label 1\n",
    "    p = train_dataset.sequences\n",
    "    p.extend(text_shift)\n",
    "    train_dataset.sequences = p\n",
    "    q=train_dataset.labels\n",
    "    q.extend(label_shift)\n",
    "    train_dataset.labels =q\n",
    "    \n",
    "    #Generating datasets for training, vaildating and testing\n",
    "    train_dataset.datasets_for_training()\n",
    "    \n",
    "    #Applying DistilBertTokenizerFast for DistilBert model\n",
    "    dataset = train_dataset.dataset\n",
    "\n",
    "    tokenizer = GPT2Tokenizer.from_pretrained(\"gpt2\")\n",
    "    tokenizer.pad_token = tokenizer.eos_token\n",
    "    \n",
    "    dataset = dataset.map(preprocess_function, batched=True)\n",
    "    dataset = dataset.remove_columns(['text'])\n",
    "    dataset = dataset.rename_column(\"label\", \"labels\")\n",
    "    \n",
    "    #padding dataset\n",
    "    data_collator = DataCollatorWithPadding(tokenizer=tokenizer, padding=\"longest\")\n",
    "    \n",
    "    #training and saving models\n",
    "    trainer1, trainer2 = training_model()\n",
    "    \n",
    "    #trainer1.evaluate()\n",
    "    #tarining modesl with preprocessed dataset\n",
    "    trainer1.train()    \n",
    "    trainer1.save_model('./model/final_gpt2')\n",
    "    \n",
    "    trainer1.evaluate()\n",
    "    prediction1 = trainer1.predict(trainer1.eval_dataset)\n",
    "    pred  = list(prediction1[0])\n",
    "    labels  = list(prediction1[1])\n",
    "    prediction = get_predictions(pred)\n",
    "    evaluate_model(labels, prediction, pred)\n",
    "    \n",
    "    #evaluation trained model\n",
    "    #trainer1.evaluate()\n",
    "    #evaluation model with another dataset\n",
    "    #trainer2.evaluate()"
   ]
  },
  {
   "cell_type": "code",
   "execution_count": 10,
   "id": "ee44b049",
   "metadata": {},
   "outputs": [
    {
     "name": "stderr",
     "output_type": "stream",
     "text": [
      "***** Running Evaluation *****\n",
      "  Num examples = 5398\n",
      "  Batch size = 8\n"
     ]
    },
    {
     "data": {
      "text/html": [
       "\n",
       "    <div>\n",
       "      \n",
       "      <progress value='675' max='675' style='width:300px; height:20px; vertical-align: middle;'></progress>\n",
       "      [675/675 05:09]\n",
       "    </div>\n",
       "    "
      ],
      "text/plain": [
       "<IPython.core.display.HTML object>"
      ]
     },
     "metadata": {},
     "output_type": "display_data"
    },
    {
     "data": {
      "text/plain": [
       "{'eval_loss': 0.1665082722902298,\n",
       " 'eval_accuracy': 0.9568358651352352,\n",
       " 'eval_recall': 0.9971284996410624,\n",
       " 'eval_precision': 0.8584672435105068,\n",
       " 'eval_f1': 0.9226170707406177,\n",
       " 'eval_runtime': 309.907,\n",
       " 'eval_samples_per_second': 17.418,\n",
       " 'eval_steps_per_second': 2.178}"
      ]
     },
     "execution_count": 10,
     "metadata": {},
     "output_type": "execute_result"
    }
   ],
   "source": [
    "trainer2.evaluate()"
   ]
  },
  {
   "cell_type": "code",
   "execution_count": null,
   "id": "b22f09b1",
   "metadata": {},
   "outputs": [],
   "source": []
  }
 ],
 "metadata": {
  "kernelspec": {
   "display_name": "Python 3 (ipykernel)",
   "language": "python",
   "name": "python3"
  },
  "language_info": {
   "codemirror_mode": {
    "name": "ipython",
    "version": 3
   },
   "file_extension": ".py",
   "mimetype": "text/x-python",
   "name": "python",
   "nbconvert_exporter": "python",
   "pygments_lexer": "ipython3",
   "version": "3.10.9"
  }
 },
 "nbformat": 4,
 "nbformat_minor": 5
}
